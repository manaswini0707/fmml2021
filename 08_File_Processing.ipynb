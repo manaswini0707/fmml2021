{
  "nbformat": 4,
  "nbformat_minor": 0,
  "metadata": {
    "colab": {
      "name": "08 File Processing.ipynb",
      "provenance": [],
      "include_colab_link": true
    },
    "kernelspec": {
      "name": "python3",
      "display_name": "Python 3"
    },
    "language_info": {
      "name": "python"
    }
  },
  "cells": [
    {
      "cell_type": "markdown",
      "metadata": {
        "id": "view-in-github",
        "colab_type": "text"
      },
      "source": [
        "<a href=\"https://colab.research.google.com/github/manaswini0707/fmml2021/blob/main/08_File_Processing.ipynb\" target=\"_parent\"><img src=\"https://colab.research.google.com/assets/colab-badge.svg\" alt=\"Open In Colab\"/></a>"
      ]
    },
    {
      "cell_type": "code",
      "metadata": {
        "id": "on0OBs9S-eiS",
        "colab": {
          "base_uri": "https://localhost:8080/"
        },
        "outputId": "dfef3752-8f66-4a47-dac8-8e684030d392"
      },
      "source": [
        "!wget https://raw.githubusercontent.com/aosp-mirror/platform_external_protobuf/master/CONTRIBUTORS.txt"
      ],
      "execution_count": 13,
      "outputs": [
        {
          "output_type": "stream",
          "name": "stdout",
          "text": [
            "--2021-09-10 05:45:54--  https://raw.githubusercontent.com/aosp-mirror/platform_external_protobuf/master/CONTRIBUTORS.txt\n",
            "Resolving raw.githubusercontent.com (raw.githubusercontent.com)... 185.199.109.133, 185.199.111.133, 185.199.110.133, ...\n",
            "Connecting to raw.githubusercontent.com (raw.githubusercontent.com)|185.199.109.133|:443... connected.\n",
            "HTTP request sent, awaiting response... 200 OK\n",
            "Length: 3924 (3.8K) [text/plain]\n",
            "Saving to: ‘CONTRIBUTORS.txt.1’\n",
            "\n",
            "\rCONTRIBUTORS.txt.1    0%[                    ]       0  --.-KB/s               \rCONTRIBUTORS.txt.1  100%[===================>]   3.83K  --.-KB/s    in 0s      \n",
            "\n",
            "2021-09-10 05:45:54 (52.8 MB/s) - ‘CONTRIBUTORS.txt.1’ saved [3924/3924]\n",
            "\n"
          ]
        }
      ]
    },
    {
      "cell_type": "code",
      "metadata": {
        "id": "Rg5LcpidAP7I"
      },
      "source": [
        "infile_pointer = open(\"CONTRIBUTORS.txt\", \"r\")\n",
        "outfile_pointer = open(\"emails-id.txt\", \"w\")"
      ],
      "execution_count": 14,
      "outputs": []
    },
    {
      "cell_type": "code",
      "metadata": {
        "id": "4yocH5ViAb-g"
      },
      "source": [
        "for each_line in infile_pointer:\n",
        "  if (each_line.count('@') > 0) and (each_line.count('<') > 0):\n",
        "      print (each_line)\n",
        "      outfile_pointer.write(each_line)\n",
        "infile_pointer.close()\n",
        "outfile_pointer.close()"
      ],
      "execution_count": null,
      "outputs": []
    },
    {
      "cell_type": "code",
      "metadata": {
        "id": "jcMUd4hNCQiU"
      },
      "source": [
        "# Write a program to save all lines that start with '-' in a separate file\n",
        "# Ignore all leading blank characters."
      ],
      "execution_count": 16,
      "outputs": []
    },
    {
      "cell_type": "code",
      "metadata": {
        "id": "f_n0xA2dPW2x"
      },
      "source": [
        "!wget https://github.com/mysql/mysql-server/blob/8.0/Docs/sp-imp-spec.txt"
      ],
      "execution_count": null,
      "outputs": []
    },
    {
      "cell_type": "code",
      "metadata": {
        "id": "VieefGJqOa0M"
      },
      "source": [
        "output_file = open(\"sp-output.txt\", \"w\")\n",
        "\n",
        "with open(\"sp-imp-spec.txt\", \"r\") as input_file:\n",
        "  for line in input_file:\n",
        "    string = line.strip()\n",
        "    if len(string) > 0 and string[0] == \"-\":\n",
        "      required_string = string[2:]\n",
        "      print(required_string)\n",
        "      output_file.write(required_string + \"\\n\")\n",
        "\n",
        "output_file.close()"
      ],
      "execution_count": 18,
      "outputs": []
    },
    {
      "cell_type": "markdown",
      "metadata": {
        "id": "CzILoddNaWPQ"
      },
      "source": [
        "Reference: [Official Python Documentation](https://docs.python.org/3/tutorial/inputoutput.html)\n",
        "\n",
        "String methods: [Link](https://www.w3schools.com/python/python_ref_string.asp)"
      ]
    }
  ]
}