{
  "nbformat": 4,
  "nbformat_minor": 0,
  "metadata": {
    "colab": {
      "name": "07_Defining_Functions.ipynb",
      "provenance": [],
      "include_colab_link": true
    },
    "kernelspec": {
      "name": "python3",
      "display_name": "Python 3"
    },
    "language_info": {
      "name": "python"
    }
  },
  "cells": [
    {
      "cell_type": "markdown",
      "metadata": {
        "id": "view-in-github",
        "colab_type": "text"
      },
      "source": [
        "<a href=\"https://colab.research.google.com/github/manaswini0707/fmml2021/blob/main/07_Defining_Functions.ipynb\" target=\"_parent\"><img src=\"https://colab.research.google.com/assets/colab-badge.svg\" alt=\"Open In Colab\"/></a>"
      ]
    },
    {
      "cell_type": "code",
      "metadata": {
        "id": "1pqsgNqwnbHE"
      },
      "source": [
        "def inList (my_char, my_list=['a','e','i','o','u']):\n",
        "  \"\"\" this is a function to check whether a char is vowel or not \"\"\"\n",
        "  for each_char in my_list:\n",
        "    if each_char == my_char.lower():\n",
        "      return True\n",
        "  return False"
      ],
      "execution_count": null,
      "outputs": []
    },
    {
      "cell_type": "code",
      "metadata": {
        "id": "SLpNGCWYn6Er",
        "colab": {
          "base_uri": "https://localhost:8080/"
        },
        "outputId": "bff9c87d-46f1-4dae-c04e-fc83c7d07d0e"
      },
      "source": [
        "inList('Z', ['x', 'y', 'z'])"
      ],
      "execution_count": null,
      "outputs": [
        {
          "output_type": "execute_result",
          "data": {
            "text/plain": [
              "True"
            ]
          },
          "metadata": {},
          "execution_count": 11
        }
      ]
    },
    {
      "cell_type": "code",
      "metadata": {
        "id": "r_KUNOW3rCc6",
        "colab": {
          "base_uri": "https://localhost:8080/"
        },
        "outputId": "57fbef86-400e-482a-fd7c-b926abfbfd06"
      },
      "source": [
        "# Write a function to check whether a given number belongs to fibonacci series or not\n",
        "\n",
        "# Any no. \"n\" is fibinaci if one of (5*n*n + 4) or (5*n*n - 4) or both is a perferct square\n",
        "import math\n",
        "\n",
        "# finding the square root of no.\n",
        "def isPerfectSquare(num):\n",
        "    s =int(math.sqrt(num))\n",
        "    return s*s == num\n",
        "\n",
        "# return true if no. is fibonaci else return false \n",
        "def isFibonacciNumber(n):\n",
        "    return isPerfectSquare(5*n*n + 4) or isPerfectSquare(5*n*n - 4)\n",
        " \n",
        "# to check \n",
        "n = int(input(\"\\n enter the number you want to check : \"))\n",
        "if(isFibonacciNumber(n) == True):\n",
        "    print(\" => fibonaci number\")\n",
        "else:\n",
        "    print(n  ,\" => not fibonaci number\")"
      ],
      "execution_count": 4,
      "outputs": [
        {
          "output_type": "stream",
          "name": "stdout",
          "text": [
            "\n",
            " enter the number you want to check : 9\n",
            "9  => not fibonaci number\n"
          ]
        }
      ]
    },
    {
      "cell_type": "markdown",
      "metadata": {
        "id": "3hfExC9BPkKK"
      },
      "source": [
        "Reference: [Python Documentation on Functions](https://docs.python.org/3/tutorial/controlflow.html#defining-functions)"
      ]
    }
  ]
}